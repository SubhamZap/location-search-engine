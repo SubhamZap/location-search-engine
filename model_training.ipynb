{
 "cells": [
  {
   "cell_type": "code",
   "execution_count": 5,
   "metadata": {},
   "outputs": [],
   "source": [
    "import pandas as pd\n"
   ]
  },
  {
   "cell_type": "code",
   "execution_count": 2,
   "metadata": {},
   "outputs": [
    {
     "data": {
      "text/html": [
       "<div>\n",
       "<style scoped>\n",
       "    .dataframe tbody tr th:only-of-type {\n",
       "        vertical-align: middle;\n",
       "    }\n",
       "\n",
       "    .dataframe tbody tr th {\n",
       "        vertical-align: top;\n",
       "    }\n",
       "\n",
       "    .dataframe thead th {\n",
       "        text-align: right;\n",
       "    }\n",
       "</style>\n",
       "<table border=\"1\" class=\"dataframe\">\n",
       "  <thead>\n",
       "    <tr style=\"text-align: right;\">\n",
       "      <th></th>\n",
       "      <th>name</th>\n",
       "      <th>state</th>\n",
       "      <th>country</th>\n",
       "      <th>location</th>\n",
       "    </tr>\n",
       "  </thead>\n",
       "  <tbody>\n",
       "    <tr>\n",
       "      <th>0</th>\n",
       "      <td>Ravi river</td>\n",
       "      <td>Punjab</td>\n",
       "      <td>India</td>\n",
       "      <td>Ravi river, Punjab, India</td>\n",
       "    </tr>\n",
       "    <tr>\n",
       "      <th>1</th>\n",
       "      <td>Punjab plain</td>\n",
       "      <td>Haryana</td>\n",
       "      <td>India</td>\n",
       "      <td>Punjab plain, Haryana, India</td>\n",
       "    </tr>\n",
       "    <tr>\n",
       "      <th>2</th>\n",
       "      <td>Jhelum river</td>\n",
       "      <td>Punjab</td>\n",
       "      <td>Pakistan</td>\n",
       "      <td>Jhelum river, Punjab, Pakistan</td>\n",
       "    </tr>\n",
       "    <tr>\n",
       "      <th>3</th>\n",
       "      <td>Hindustan</td>\n",
       "      <td>Delhi</td>\n",
       "      <td>India</td>\n",
       "      <td>Hindustan, Delhi, India</td>\n",
       "    </tr>\n",
       "    <tr>\n",
       "      <th>4</th>\n",
       "      <td>Basantar river</td>\n",
       "      <td>Himachal Pradesh</td>\n",
       "      <td>India</td>\n",
       "      <td>Basantar river, Himachal Pradesh, India</td>\n",
       "    </tr>\n",
       "    <tr>\n",
       "      <th>...</th>\n",
       "      <td>...</td>\n",
       "      <td>...</td>\n",
       "      <td>...</td>\n",
       "      <td>...</td>\n",
       "    </tr>\n",
       "    <tr>\n",
       "      <th>812214</th>\n",
       "      <td>Athal</td>\n",
       "      <td>Dadra and Nagar Haveli and Daman and Diu</td>\n",
       "      <td>India</td>\n",
       "      <td>Athal, Dadra and Nagar Haveli and Daman and Di...</td>\n",
       "    </tr>\n",
       "    <tr>\n",
       "      <th>812218</th>\n",
       "      <td>Karad daman project</td>\n",
       "      <td>Dadra and Nagar Haveli and Daman and Diu</td>\n",
       "      <td>India</td>\n",
       "      <td>Karad daman project, Dadra and Nagar Haveli an...</td>\n",
       "    </tr>\n",
       "    <tr>\n",
       "      <th>812219</th>\n",
       "      <td>Dapada</td>\n",
       "      <td>Dadra and Nagar Haveli and Daman and Diu</td>\n",
       "      <td>India</td>\n",
       "      <td>Dapada, Dadra and Nagar Haveli and Daman and D...</td>\n",
       "    </tr>\n",
       "    <tr>\n",
       "      <th>812220</th>\n",
       "      <td>Surangi</td>\n",
       "      <td>Dadra and Nagar Haveli and Daman and Diu</td>\n",
       "      <td>India</td>\n",
       "      <td>Surangi, Dadra and Nagar Haveli and Daman and ...</td>\n",
       "    </tr>\n",
       "    <tr>\n",
       "      <th>812221</th>\n",
       "      <td>Chinchpada</td>\n",
       "      <td>Dadra and Nagar Haveli and Daman and Diu</td>\n",
       "      <td>India</td>\n",
       "      <td>Chinchpada, Dadra and Nagar Haveli and Daman a...</td>\n",
       "    </tr>\n",
       "  </tbody>\n",
       "</table>\n",
       "<p>552995 rows × 4 columns</p>\n",
       "</div>"
      ],
      "text/plain": [
       "                       name                                     state  \\\n",
       "0                Ravi river                                    Punjab   \n",
       "1              Punjab plain                                   Haryana   \n",
       "2              Jhelum river                                    Punjab   \n",
       "3                 Hindustan                                     Delhi   \n",
       "4            Basantar river                          Himachal Pradesh   \n",
       "...                     ...                                       ...   \n",
       "812214                Athal  Dadra and Nagar Haveli and Daman and Diu   \n",
       "812218  Karad daman project  Dadra and Nagar Haveli and Daman and Diu   \n",
       "812219               Dapada  Dadra and Nagar Haveli and Daman and Diu   \n",
       "812220              Surangi  Dadra and Nagar Haveli and Daman and Diu   \n",
       "812221           Chinchpada  Dadra and Nagar Haveli and Daman and Diu   \n",
       "\n",
       "         country                                           location  \n",
       "0          India                          Ravi river, Punjab, India  \n",
       "1          India                       Punjab plain, Haryana, India  \n",
       "2       Pakistan                     Jhelum river, Punjab, Pakistan  \n",
       "3          India                            Hindustan, Delhi, India  \n",
       "4          India            Basantar river, Himachal Pradesh, India  \n",
       "...          ...                                                ...  \n",
       "812214     India  Athal, Dadra and Nagar Haveli and Daman and Di...  \n",
       "812218     India  Karad daman project, Dadra and Nagar Haveli an...  \n",
       "812219     India  Dapada, Dadra and Nagar Haveli and Daman and D...  \n",
       "812220     India  Surangi, Dadra and Nagar Haveli and Daman and ...  \n",
       "812221     India  Chinchpada, Dadra and Nagar Haveli and Daman a...  \n",
       "\n",
       "[552995 rows x 4 columns]"
      ]
     },
     "execution_count": 2,
     "metadata": {},
     "output_type": "execute_result"
    }
   ],
   "source": [
    "df = pd.read_json('final_data.json')\n",
    "df"
   ]
  },
  {
   "cell_type": "code",
   "execution_count": 3,
   "metadata": {},
   "outputs": [],
   "source": [
    "df.drop_duplicates(subset='location', inplace=True, ignore_index=True)\n"
   ]
  },
  {
   "cell_type": "code",
   "execution_count": 3,
   "metadata": {},
   "outputs": [],
   "source": [
    "from sklearn.feature_extraction.text import TfidfVectorizer\n",
    "from sklearn.metrics.pairwise import cosine_similarity\n",
    "from scipy.sparse import save_npz, load_npz"
   ]
  },
  {
   "cell_type": "code",
   "execution_count": 5,
   "metadata": {},
   "outputs": [],
   "source": [
    "tfidf_vectorizer = TfidfVectorizer()\n",
    "tfidf_matrix = tfidf_vectorizer.fit_transform(df['location'])"
   ]
  },
  {
   "cell_type": "code",
   "execution_count": 6,
   "metadata": {},
   "outputs": [
    {
     "data": {
      "text/plain": [
       "['model/tfidf_vectorizer.pkl']"
      ]
     },
     "execution_count": 6,
     "metadata": {},
     "output_type": "execute_result"
    }
   ],
   "source": [
    "import joblib\n",
    "\n",
    "tfidf_vectorizer_filename = 'model/tfidf_vectorizer.pkl'\n",
    "joblib.dump(tfidf_vectorizer, tfidf_vectorizer_filename)"
   ]
  },
  {
   "cell_type": "code",
   "execution_count": 7,
   "metadata": {},
   "outputs": [],
   "source": [
    "index_mapping = df['location']\n",
    "tfidf_matrix_filename = 'model/tfidf_matrix.npz'\n",
    "index_mapping_filename = 'model/index_mapping.pkl'\n",
    "\n",
    "# Save the precomputed vectors and metadata\n",
    "save_npz(tfidf_matrix_filename, tfidf_matrix)\n",
    "index_mapping.to_pickle(index_mapping_filename)"
   ]
  },
  {
   "cell_type": "code",
   "execution_count": 9,
   "metadata": {},
   "outputs": [],
   "source": [
    "import joblib\n",
    "tfidf_matrix_filename = 'model/tfidf_matrix.npz'\n",
    "index_mapping_filename = 'model/index_mapping.pkl'\n",
    "tfidf_vectorizer_filename = 'model/tfidf_vectorizer.pkl'\n",
    "\n",
    "def load_sparse_csr(filename):\n",
    "    return load_npz(filename)\n",
    "\n",
    "# Query and Retrieve\n",
    "def query(input_text, tfidf_matrix_filename, index_mapping_filename, top_n=5):\n",
    "    # Load precomputed vectors and metadata\n",
    "    tfidf_matrix = load_sparse_csr(tfidf_matrix_filename)\n",
    "    index_mapping = pd.read_pickle(index_mapping_filename)\n",
    "    result = []\n",
    "    tfidf_vectorizer_new = joblib.load(tfidf_vectorizer_filename)\n",
    "    # Vectorize the input text\n",
    "    input_vector = tfidf_vectorizer_new.transform([input_text])\n",
    "    print(input_vector.shape)\n",
    "    print(tfidf_matrix.shape)\n",
    "\n",
    "    # Compute cosine similarity between input text vector and precomputed vectors\n",
    "    similarity_scores = cosine_similarity(input_vector, tfidf_matrix).flatten()\n",
    "\n",
    "    # Retrieve top results\n",
    "    top_indices = similarity_scores.argsort()[-top_n:][::-1]\n",
    "    top_results = index_mapping.loc[top_indices]\n",
    "\n",
    "    for res in top_results:\n",
    "        result.append(\n",
    "            {\n",
    "                'entity_name': res\n",
    "            }\n",
    "        )\n",
    "    return result\n"
   ]
  },
  {
   "cell_type": "code",
   "execution_count": 10,
   "metadata": {},
   "outputs": [
    {
     "name": "stdout",
     "output_type": "stream",
     "text": [
      "(1, 365180)\n",
      "(549264, 365180)\n",
      "[{'entity_name': 'West bengal, West Bengal, India'}, {'entity_name': 'Bamunia west, West Bengal, India'}, {'entity_name': 'West sanabandh, West Bengal, India'}, {'entity_name': 'Khurd, West Bengal, India'}, {'entity_name': 'Ramgarh west midnapor, West Bengal, India'}]\n"
     ]
    }
   ],
   "source": [
    "input_text = 'west'\n",
    "top_results = query(input_text, tfidf_matrix_filename, index_mapping_filename)\n",
    "print(top_results)"
   ]
  },
  {
   "cell_type": "code",
   "execution_count": null,
   "metadata": {},
   "outputs": [],
   "source": []
  }
 ],
 "metadata": {
  "kernelspec": {
   "display_name": "venv",
   "language": "python",
   "name": "python3"
  },
  "language_info": {
   "codemirror_mode": {
    "name": "ipython",
    "version": 3
   },
   "file_extension": ".py",
   "mimetype": "text/x-python",
   "name": "python",
   "nbconvert_exporter": "python",
   "pygments_lexer": "ipython3",
   "version": "3.9.6"
  },
  "orig_nbformat": 4
 },
 "nbformat": 4,
 "nbformat_minor": 2
}
